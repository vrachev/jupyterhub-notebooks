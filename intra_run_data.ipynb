{
 "cells": [
  {
   "cell_type": "code",
   "execution_count": null,
   "id": "e04f638f-1e0e-4a19-b9e5-2d2eea093d73",
   "metadata": {},
   "outputs": [],
   "source": [
    "import copy\n",
    "import matplotlib\n",
    "import pandas\n",
    "import warnings\n",
    "import requests\n",
    "import scipy\n",
    "from scipy import stats\n",
    "import subprocess\n",
    "import numpy as np\n",
    "import numpy\n",
    "from matplotlib import pyplot as plt\n",
    "import json\n",
    "import seaborn\n",
    "import networkx as nx\n",
    "import curatorbin\n",
    "import os"
   ]
  },
  {
   "cell_type": "code",
   "execution_count": null,
   "id": "a26375fc-5407-4ac9-817f-4fcc2469970a",
   "metadata": {},
   "outputs": [],
   "source": [
    "os.makedirs(\"task_data\", exist_ok=True)"
   ]
  },
  {
   "cell_type": "code",
   "execution_count": null,
   "id": "13316807-ca06-48bd-9f31-f9fc0582e664",
   "metadata": {},
   "outputs": [],
   "source": [
    "task_id = \"sys_perf_linux_3_node_replSet_last_continuous_fcv_mixed_writes_replica_60e0443449d43bd027e482583ff414a963aa01c5_21_08_05_19_22_39\"\n",
    "metric_name = \"MixedWrites.W3InsertOne.1\"\n",
    "task_record = requests.get(f\"https://cedar.mongodb.com/rest/v1/perf/task_id/{task_id}\").json()\n",
    "tests = [t for t in task_record if metric_name in t[\"info\"][\"test_name\"]]\n",
    "if len(tests) == 0:\n",
    "    raise ValueError(\"The metric requested does not exist\")\n",
    "\n",
    "metric_record = tests[0]"
   ]
  },
  {
   "cell_type": "code",
   "execution_count": null,
   "id": "c0eee89b-2993-4398-9f6a-c6b9a1dcb333",
   "metadata": {},
   "outputs": [],
   "source": [
    "def get_data(result):\n",
    "    ftdc_file = f\"./task_data/{metric_name}.ftdc\"\n",
    "    csv_file = f\"./task_data/{metric_name}.csv\"\n",
    "    try:\n",
    "        df = pandas.read_csv(f\"./task_data/{metric_name}.csv\")\n",
    "    except FileNotFoundError:\n",
    "        if not os.path.isfile(ftdc_file):\n",
    "            r = requests.get(result[\"artifacts\"][0][\"download_url\"])\n",
    "            with open(ftdc_file, \"wb\") as f:\n",
    "                f.write(r.content)\n",
    "        curatorbin.run_curator(\"ftdc\", \"export\", \"csv\", \"--input\", ftdc_file, \"--output\", csv_file)\n",
    "        df = pandas.read_csv(csv_file)\n",
    "    return df"
   ]
  },
  {
   "cell_type": "code",
   "execution_count": null,
   "id": "7cb7f593-d0ab-401d-a3d1-9aa749f76e79",
   "metadata": {},
   "outputs": [],
   "source": [
    "data = get_data(metric_record)"
   ]
  },
  {
   "cell_type": "code",
   "execution_count": null,
   "id": "ebb84a09-faa9-459a-85b7-0ec6d90c3309",
   "metadata": {},
   "outputs": [],
   "source": [
    "for field in [\"counters.n\", \"counters.ops\", \"counters.size\", \"counters.errors\", \"timers.dur\", \"timers.total\"]:\n",
    "    data[field] = data[field].diff().fillna(data[field])\n",
    "for field in [\"timers.dur\", \"timers.total\"]:\n",
    "    data[field] = data[field] / 1e+9\n",
    "with warnings.catch_warnings():\n",
    "    warnings.simplefilter('ignore')\n",
    "    data[\"ts\"] = pandas.to_datetime(data[\"ts\"])\n",
    "    data[\"ts\"] = data[\"ts\"].dt.to_period(\"1s\") # Sample the timestamps down to 1 second granularity."
   ]
  },
  {
   "cell_type": "code",
   "execution_count": null,
   "id": "19e22600-2aed-41cb-85e2-d193b79e92b5",
   "metadata": {},
   "outputs": [],
   "source": [
    "b = pandas.DataFrame()\n",
    "b[\"throughput\"] = data.groupby(\"ts\").count()[\"id\"]\n",
    "b[\"latency\"] = data.groupby(\"ts\").mean()[\"timers.dur\"]\n",
    "b[\"latency-median\"] = data.groupby(\"ts\").median()[\"timers.dur\"]\n",
    "b[\"latency-max\"] = data.groupby(\"ts\").max()[\"timers.dur\"]"
   ]
  },
  {
   "cell_type": "code",
   "execution_count": null,
   "id": "5e4dc9d5-8d48-49c7-8e5d-30f2b15c8211",
   "metadata": {},
   "outputs": [],
   "source": [
    "b.plot.area(figsize=(20,12), subplots=True)"
   ]
  },
  {
   "cell_type": "code",
   "execution_count": null,
   "id": "0b25b6fc-a3d0-451f-8fcd-4bc8b3e345c0",
   "metadata": {},
   "outputs": [],
   "source": []
  }
 ],
 "metadata": {
  "kernelspec": {
   "display_name": "Python 3 (ipykernel)",
   "language": "python",
   "name": "python3"
  },
  "language_info": {
   "codemirror_mode": {
    "name": "ipython",
    "version": 3
   },
   "file_extension": ".py",
   "mimetype": "text/x-python",
   "name": "python",
   "nbconvert_exporter": "python",
   "pygments_lexer": "ipython3",
   "version": "3.9.7"
  }
 },
 "nbformat": 4,
 "nbformat_minor": 5
}
